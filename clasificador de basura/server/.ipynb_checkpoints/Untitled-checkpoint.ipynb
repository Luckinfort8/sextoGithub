{
 "cells": [
  {
   "cell_type": "code",
   "execution_count": 2,
   "id": "32865193-849c-4c37-b18e-85aa86d3c403",
   "metadata": {},
   "outputs": [
    {
     "name": "stderr",
     "output_type": "stream",
     "text": [
      "2024-01-16 00:42:17.380474: I tensorflow/core/util/port.cc:113] oneDNN custom operations are on. You may see slightly different numerical results due to floating-point round-off errors from different computation orders. To turn them off, set the environment variable `TF_ENABLE_ONEDNN_OPTS=0`.\n",
      "2024-01-16 00:42:17.386862: I external/local_tsl/tsl/cuda/cudart_stub.cc:31] Could not find cuda drivers on your machine, GPU will not be used.\n",
      "2024-01-16 00:42:17.471954: E external/local_xla/xla/stream_executor/cuda/cuda_dnn.cc:9261] Unable to register cuDNN factory: Attempting to register factory for plugin cuDNN when one has already been registered\n",
      "2024-01-16 00:42:17.472038: E external/local_xla/xla/stream_executor/cuda/cuda_fft.cc:607] Unable to register cuFFT factory: Attempting to register factory for plugin cuFFT when one has already been registered\n",
      "2024-01-16 00:42:17.479864: E external/local_xla/xla/stream_executor/cuda/cuda_blas.cc:1515] Unable to register cuBLAS factory: Attempting to register factory for plugin cuBLAS when one has already been registered\n",
      "2024-01-16 00:42:17.507531: I external/local_tsl/tsl/cuda/cudart_stub.cc:31] Could not find cuda drivers on your machine, GPU will not be used.\n",
      "2024-01-16 00:42:17.508942: I tensorflow/core/platform/cpu_feature_guard.cc:182] This TensorFlow binary is optimized to use available CPU instructions in performance-critical operations.\n",
      "To enable the following instructions: AVX2 AVX512F AVX512_VNNI FMA, in other operations, rebuild TensorFlow with the appropriate compiler flags.\n",
      "2024-01-16 00:42:18.535047: W tensorflow/compiler/tf2tensorrt/utils/py_utils.cc:38] TF-TRT Warning: Could not find TensorRT\n"
     ]
    }
   ],
   "source": [
    "from flask import Flask, request, jsonify\n",
    "from flask_cors import CORS\n",
    "import tensorflow as tf\n",
    "from tensorflow.keras.models import load_model\n",
    "import tensorflow_hub as hub\n",
    "import cv2\n",
    "import numpy as np\n",
    "import os"
   ]
  },
  {
   "cell_type": "code",
   "execution_count": 3,
   "id": "69a46ddd-0fa4-404c-a9b8-fad892cfa2b2",
   "metadata": {},
   "outputs": [],
   "source": [
    "# Definir la capa KerasLayer personalizada desde TensorFlow Hub\n",
    "custom_objects = {'KerasLayer': hub.KerasLayer}"
   ]
  },
  {
   "cell_type": "code",
   "execution_count": 4,
   "id": "680108fe-2fca-4734-89dd-11e5f17aa89c",
   "metadata": {},
   "outputs": [],
   "source": [
    "# Cargar el modelo completo (modelo conjunto)\n",
    "model = load_model('model.keras', custom_objects=custom_objects, compile=False)"
   ]
  },
  {
   "cell_type": "code",
   "execution_count": 5,
   "id": "3e0adde1-5b36-4be4-b06d-2faaf9165a9b",
   "metadata": {},
   "outputs": [],
   "source": [
    "model.compile(loss=\"categorical_crossentropy\",optimizer=tf.keras.optimizers.experimental.Adamax(),metrics=['accuracy'])"
   ]
  },
  {
   "cell_type": "code",
   "execution_count": 6,
   "id": "1782ed3c-2700-4329-9468-e0f1af4ebd66",
   "metadata": {},
   "outputs": [],
   "source": [
    "# Tamaño de la imagen\n",
    "size = 224\n",
    "\n",
    "def preprocess_image(image_path, target_size):\n",
    "    img = cv2.imread(image_path)\n",
    "    img = cv2.cvtColor(img, cv2.COLOR_BGR2RGB)\n",
    "    img = cv2.resize(img, target_size)\n",
    "    img = img * 1.0 / 255.0  # Normalizar\n",
    "    img = np.expand_dims(img, axis=0)  # Añadir dimensión de lote\n",
    "    return img"
   ]
  },
  {
   "cell_type": "code",
   "execution_count": 9,
   "id": "6c15751d-4e4c-42a3-9af2-21560edc9a6d",
   "metadata": {},
   "outputs": [],
   "source": [
    "# Generar un mapeo inverso de índices a nombres de clases directamente aquí\n",
    "class_indices = {'Baterias': 0, 'Material Biologico': 1, 'Vidrio cafe': 2, 'carton': 3, 'Prendas': 4, 'Cristal Verde': 5, 'Metal': 6, 'Papel': 7,'Plastico': 8, 'Zapatos': 9, 'Otra Basura': 10, 'Vidrio blanco/Transparente': 11}"
   ]
  },
  {
   "cell_type": "code",
   "execution_count": 8,
   "id": "78a85cab-ab92-4d21-9c1c-6398fe49f42c",
   "metadata": {},
   "outputs": [
    {
     "name": "stdout",
     "output_type": "stream",
     "text": [
      " * Serving Flask app '__main__'\n",
      " * Debug mode: off\n"
     ]
    },
    {
     "name": "stderr",
     "output_type": "stream",
     "text": [
      "INFO:werkzeug:\u001b[31m\u001b[1mWARNING: This is a development server. Do not use it in a production deployment. Use a production WSGI server instead.\u001b[0m\n",
      " * Running on all addresses (0.0.0.0)\n",
      " * Running on http://127.0.0.1:5000\n",
      " * Running on http://172.19.68.93:5000\n",
      "INFO:werkzeug:\u001b[33mPress CTRL+C to quit\u001b[0m\n",
      "INFO:werkzeug:172.19.64.1 - - [16/Jan/2024 00:45:16] \"GET / HTTP/1.1\" 200 -\n",
      "INFO:werkzeug:172.19.64.1 - - [16/Jan/2024 00:46:04] \"GET / HTTP/1.1\" 200 -\n"
     ]
    },
    {
     "name": "stdout",
     "output_type": "stream",
     "text": [
      "1/1 [==============================] - 3s 3s/step\n"
     ]
    },
    {
     "name": "stderr",
     "output_type": "stream",
     "text": [
      "INFO:werkzeug:172.19.64.1 - - [16/Jan/2024 00:47:24] \"POST /predict HTTP/1.1\" 200 -\n"
     ]
    },
    {
     "name": "stdout",
     "output_type": "stream",
     "text": [
      "1/1 [==============================] - 1s 692ms/step\n"
     ]
    },
    {
     "name": "stderr",
     "output_type": "stream",
     "text": [
      "INFO:werkzeug:172.19.64.1 - - [16/Jan/2024 00:47:36] \"POST /predict HTTP/1.1\" 200 -\n"
     ]
    },
    {
     "name": "stdout",
     "output_type": "stream",
     "text": [
      "1/1 [==============================] - 1s 691ms/step\n"
     ]
    },
    {
     "name": "stderr",
     "output_type": "stream",
     "text": [
      "INFO:werkzeug:172.19.64.1 - - [16/Jan/2024 00:47:47] \"POST /predict HTTP/1.1\" 200 -\n"
     ]
    },
    {
     "name": "stdout",
     "output_type": "stream",
     "text": [
      "1/1 [==============================] - 1s 700ms/step\n"
     ]
    },
    {
     "name": "stderr",
     "output_type": "stream",
     "text": [
      "INFO:werkzeug:172.19.64.1 - - [16/Jan/2024 00:48:01] \"POST /predict HTTP/1.1\" 200 -\n"
     ]
    },
    {
     "name": "stdout",
     "output_type": "stream",
     "text": [
      "1/1 [==============================] - 1s 705ms/step\n"
     ]
    },
    {
     "name": "stderr",
     "output_type": "stream",
     "text": [
      "INFO:werkzeug:172.19.64.1 - - [16/Jan/2024 00:48:11] \"POST /predict HTTP/1.1\" 200 -\n"
     ]
    },
    {
     "name": "stdout",
     "output_type": "stream",
     "text": [
      "1/1 [==============================] - 1s 692ms/step\n"
     ]
    },
    {
     "name": "stderr",
     "output_type": "stream",
     "text": [
      "INFO:werkzeug:172.19.64.1 - - [16/Jan/2024 00:49:03] \"POST /predict HTTP/1.1\" 200 -\n"
     ]
    },
    {
     "name": "stdout",
     "output_type": "stream",
     "text": [
      "1/1 [==============================] - 1s 705ms/step\n"
     ]
    },
    {
     "name": "stderr",
     "output_type": "stream",
     "text": [
      "INFO:werkzeug:172.19.64.1 - - [16/Jan/2024 00:49:07] \"POST /predict HTTP/1.1\" 200 -\n"
     ]
    },
    {
     "name": "stdout",
     "output_type": "stream",
     "text": [
      "1/1 [==============================] - 1s 690ms/step\n"
     ]
    },
    {
     "name": "stderr",
     "output_type": "stream",
     "text": [
      "INFO:werkzeug:172.19.64.1 - - [16/Jan/2024 00:49:11] \"POST /predict HTTP/1.1\" 200 -\n"
     ]
    },
    {
     "name": "stdout",
     "output_type": "stream",
     "text": [
      "1/1 [==============================] - 1s 712ms/step\n"
     ]
    },
    {
     "name": "stderr",
     "output_type": "stream",
     "text": [
      "INFO:werkzeug:172.19.64.1 - - [16/Jan/2024 00:49:14] \"POST /predict HTTP/1.1\" 200 -\n"
     ]
    },
    {
     "name": "stdout",
     "output_type": "stream",
     "text": [
      "1/1 [==============================] - 1s 683ms/step\n"
     ]
    },
    {
     "name": "stderr",
     "output_type": "stream",
     "text": [
      "INFO:werkzeug:172.19.64.1 - - [16/Jan/2024 00:49:23] \"POST /predict HTTP/1.1\" 200 -\n"
     ]
    },
    {
     "name": "stdout",
     "output_type": "stream",
     "text": [
      "1/1 [==============================] - 1s 682ms/step\n"
     ]
    },
    {
     "name": "stderr",
     "output_type": "stream",
     "text": [
      "INFO:werkzeug:172.19.64.1 - - [16/Jan/2024 00:49:36] \"POST /predict HTTP/1.1\" 200 -\n"
     ]
    },
    {
     "name": "stdout",
     "output_type": "stream",
     "text": [
      "1/1 [==============================] - 1s 679ms/step\n"
     ]
    },
    {
     "name": "stderr",
     "output_type": "stream",
     "text": [
      "INFO:werkzeug:172.19.64.1 - - [16/Jan/2024 00:49:44] \"POST /predict HTTP/1.1\" 200 -\n"
     ]
    },
    {
     "name": "stdout",
     "output_type": "stream",
     "text": [
      "1/1 [==============================] - 1s 698ms/step\n"
     ]
    },
    {
     "name": "stderr",
     "output_type": "stream",
     "text": [
      "INFO:werkzeug:172.19.64.1 - - [16/Jan/2024 00:52:05] \"POST /predict HTTP/1.1\" 200 -\n"
     ]
    },
    {
     "name": "stdout",
     "output_type": "stream",
     "text": [
      "1/1 [==============================] - 1s 711ms/step\n"
     ]
    },
    {
     "name": "stderr",
     "output_type": "stream",
     "text": [
      "INFO:werkzeug:172.19.64.1 - - [16/Jan/2024 00:52:14] \"POST /predict HTTP/1.1\" 200 -\n"
     ]
    },
    {
     "name": "stdout",
     "output_type": "stream",
     "text": [
      "1/1 [==============================] - 1s 720ms/step\n"
     ]
    },
    {
     "name": "stderr",
     "output_type": "stream",
     "text": [
      "INFO:werkzeug:172.19.64.1 - - [16/Jan/2024 00:52:25] \"POST /predict HTTP/1.1\" 200 -\n"
     ]
    }
   ],
   "source": [
    "app = Flask(__name__)\n",
    "CORS(app)\n",
    "# Prueba\n",
    "@app.route('/')\n",
    "def hello_world():\n",
    "    return 'Hello, World!'\n",
    "# Ruta de la API para la clasificación de imágenes\n",
    "@app.route('/predict', methods=['POST'])\n",
    "def predict():\n",
    "    # Verificar si la solicitud es una solicitud POST y tiene un archivo de imagen\n",
    "    if request.method == 'POST' and 'image' in request.files:\n",
    "        image_file = request.files['image']\n",
    "        \n",
    "        # Guardar la imagen temporalmente\n",
    "        temp_image_path = 'temp_image.jpg'\n",
    "        image_file.save(temp_image_path)\n",
    "\n",
    "        # Preprocesar la imagen\n",
    "        preprocessed_image = preprocess_image(temp_image_path, (size, size))\n",
    "\n",
    "        # Realizar la predicción\n",
    "        predictions = model.predict([preprocessed_image, preprocessed_image])\n",
    "\n",
    "        # Obtener el índice de la clase predicha\n",
    "        predicted_class = np.argmax(predictions, axis=1)\n",
    "\n",
    "        # Obtener el nombre de la clase predicha\n",
    "        predicted_class_name = list(class_indices.keys())[predicted_class[0]]\n",
    "\n",
    "        # Eliminar la imagen temporal\n",
    "        os.remove(temp_image_path)\n",
    "\n",
    "        return jsonify({'predicted_class': predicted_class_name})\n",
    "    else:\n",
    "        return jsonify({'error': 'Invalid request'})\n",
    "\n",
    "if __name__ == '__main__':\n",
    "     app.run(host='0.0.0.0', threaded=True)\n"
   ]
  },
  {
   "cell_type": "code",
   "execution_count": null,
   "id": "01b2681e-acc5-4c32-b075-7a9b6d3d8b74",
   "metadata": {},
   "outputs": [],
   "source": []
  }
 ],
 "metadata": {
  "kernelspec": {
   "display_name": "Python 3 (ipykernel)",
   "language": "python",
   "name": "python3"
  },
  "language_info": {
   "codemirror_mode": {
    "name": "ipython",
    "version": 3
   },
   "file_extension": ".py",
   "mimetype": "text/x-python",
   "name": "python",
   "nbconvert_exporter": "python",
   "pygments_lexer": "ipython3",
   "version": "3.10.13"
  }
 },
 "nbformat": 4,
 "nbformat_minor": 5
}
